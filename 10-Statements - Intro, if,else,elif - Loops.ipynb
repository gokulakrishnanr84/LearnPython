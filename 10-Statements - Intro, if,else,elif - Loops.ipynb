{
 "cells": [
  {
   "cell_type": "markdown",
   "metadata": {},
   "source": [
    "**Python Statements**\n",
    "\n",
    "**In other languages like Java, C#**\n",
    "    \n",
    "    if (var1 > var2)\n",
    "    {  \n",
    "        var1 = 5;  \n",
    "        var2 = 10;  \n",
    "    }\n",
    "\n",
    "**In Python:**\n",
    "\n",
    "    if var1 > var2:    \n",
    "       var1 = 5    \n",
    "       var2 = 10"
   ]
  },
  {
   "cell_type": "markdown",
   "metadata": {},
   "source": [
    "1. Python gets rid of () {} by using colon and whitespace.\n",
    "2. Statement ends with a colon.\n",
    "3. Whitespace describes what takes place in case of a statement.\n",
    "4. No semi-colon as end of a line denotes the end of a statement."
   ]
  },
  {
   "cell_type": "markdown",
   "metadata": {},
   "source": [
    "**if, elif, else**\n",
    "\n",
    "\n",
    "    if case1:\n",
    "        perform action1\n",
    "    elif case2:\n",
    "        perform action2\n",
    "    else: \n",
    "        perform action 3"
   ]
  },
  {
   "cell_type": "code",
   "execution_count": null,
   "metadata": {
    "collapsed": true
   },
   "outputs": [],
   "source": [
    "# Example 1\n",
    "if True:\n",
    "    print 'Hello'"
   ]
  },
  {
   "cell_type": "code",
   "execution_count": 1,
   "metadata": {},
   "outputs": [
    {
     "name": "stdout",
     "output_type": "stream",
     "text": [
      "King of Clay !!\n"
     ]
    }
   ],
   "source": [
    "# Example 2\n",
    "player = 'Rafa' # Below code is pretty clean which is one of the places where Python scores over other languages\n",
    "\n",
    "if player == 'Roger':\n",
    "    print 'King of Grass !!'\n",
    "elif player == 'Rafa':\n",
    "    print 'King of Clay !!'\n",
    "else:\n",
    "    print \"It's Novak\""
   ]
  },
  {
   "cell_type": "markdown",
   "metadata": {},
   "source": [
    "**For Loop** - General Format\n",
    "\n",
    "    for item in object:\n",
    "        statements to do stuff"
   ]
  },
  {
   "cell_type": "code",
   "execution_count": 14,
   "metadata": {},
   "outputs": [
    {
     "name": "stdout",
     "output_type": "stream",
     "text": [
      "1\n",
      "2\n",
      "3\n",
      "4\n",
      "5\n",
      "6\n",
      "7\n",
      "8\n",
      "9\n",
      "10\n"
     ]
    }
   ],
   "source": [
    "# Example 3\n",
    "list = [1, 2, 3, 4, 5, 6, 7, 8, 9, 10] \n",
    "\n",
    "for item in list: # looping through the list\n",
    "    print item"
   ]
  },
  {
   "cell_type": "code",
   "execution_count": 15,
   "metadata": {},
   "outputs": [
    {
     "name": "stdout",
     "output_type": "stream",
     "text": [
      "odd\n",
      "even\n",
      "odd\n",
      "even\n",
      "odd\n",
      "even\n",
      "odd\n",
      "even\n",
      "odd\n",
      "even\n"
     ]
    }
   ],
   "source": [
    "# Example 4\n",
    "for item in list:\n",
    "    if item % 2 == 0:\n",
    "        print 'even'\n",
    "    else:\n",
    "        print 'odd'"
   ]
  },
  {
   "cell_type": "code",
   "execution_count": 16,
   "metadata": {},
   "outputs": [
    {
     "name": "stdout",
     "output_type": "stream",
     "text": [
      "I\n",
      "'\n",
      "m\n",
      " \n",
      "a\n",
      " \n",
      "S\n",
      "t\n",
      "r\n",
      "i\n",
      "n\n",
      "g\n"
     ]
    }
   ],
   "source": [
    "# Example 5\n",
    "for char in \"I'm a String\":\n",
    "    print char"
   ]
  },
  {
   "cell_type": "code",
   "execution_count": 17,
   "metadata": {},
   "outputs": [
    {
     "name": "stdout",
     "output_type": "stream",
     "text": [
      "15\n"
     ]
    }
   ],
   "source": [
    "# Example 6\n",
    "tuple = (1, 2, 3, 4, 5)\n",
    "\n",
    "sum = 0\n",
    "for item in tuple: # looping through tuple\n",
    "    sum += item\n",
    "    \n",
    "print sum"
   ]
  },
  {
   "cell_type": "code",
   "execution_count": 18,
   "metadata": {},
   "outputs": [
    {
     "name": "stdout",
     "output_type": "stream",
     "text": [
      "(1, 2)\n",
      "(3, 4)\n",
      "(5, 6)\n"
     ]
    }
   ],
   "source": [
    "# Example 7\n",
    "list1 = [(1,2), (3,4), (5,6)]\n",
    "\n",
    "for tuple in list1:\n",
    "    print tuple"
   ]
  },
  {
   "cell_type": "code",
   "execution_count": 19,
   "metadata": {},
   "outputs": [
    {
     "name": "stdout",
     "output_type": "stream",
     "text": [
      "1\n",
      "3\n",
      "5\n"
     ]
    }
   ],
   "source": [
    "# Example 8\n",
    "for (t1, t2) in list1:\n",
    "    print t1"
   ]
  },
  {
   "cell_type": "code",
   "execution_count": 20,
   "metadata": {},
   "outputs": [
    {
     "name": "stdout",
     "output_type": "stream",
     "text": [
      "k3\n",
      "k2\n",
      "k1\n"
     ]
    }
   ],
   "source": [
    "# Example 9\n",
    "dict = {\"k1\":'v1', 'k2':'v2', 'k3':'v3'}\n",
    "\n",
    "for item in dict: # looping through dictionary\n",
    "    print item"
   ]
  },
  {
   "cell_type": "code",
   "execution_count": 22,
   "metadata": {},
   "outputs": [
    {
     "name": "stdout",
     "output_type": "stream",
     "text": [
      "v3\n",
      "v2\n",
      "v1\n"
     ]
    }
   ],
   "source": [
    "# Example 10\n",
    "for item in dict:\n",
    "    print dict[item]"
   ]
  },
  {
   "cell_type": "code",
   "execution_count": 23,
   "metadata": {},
   "outputs": [
    {
     "name": "stdout",
     "output_type": "stream",
     "text": [
      "k3\n",
      "v3\n",
      "k2\n",
      "v2\n",
      "k1\n",
      "v1\n"
     ]
    }
   ],
   "source": [
    "for key,value in dict.iteritems(): # iteritems in Python 2 creates a generator\n",
    "    print key\n",
    "    print value"
   ]
  },
  {
   "cell_type": "code",
   "execution_count": 24,
   "metadata": {},
   "outputs": [
    {
     "name": "stdout",
     "output_type": "stream",
     "text": [
      "k3\n",
      "v3\n",
      "k2\n",
      "v2\n",
      "k1\n",
      "v1\n"
     ]
    }
   ],
   "source": [
    "'''\n",
    "items() is from Python 3. However it still worked in Python 2.\n",
    "Reason being items() was originally present in Python 2 but it was returning tuples then.\n",
    "''' \n",
    "for key,value in dict.items():\n",
    "    print key\n",
    "    print value"
   ]
  },
  {
   "cell_type": "markdown",
   "metadata": {},
   "source": [
    "**While Loop** - General Format\n",
    "\n",
    "    while test:\n",
    "        code statement\n",
    "    else:\n",
    "        final code statements\n",
    "\n",
    "In Java, C#, we generally don't find else statement along with while loop.\n",
    "Else is not mandatory though in Python"
   ]
  },
  {
   "cell_type": "code",
   "execution_count": 26,
   "metadata": {},
   "outputs": [
    {
     "name": "stdout",
     "output_type": "stream",
     "text": [
      "5\n",
      "4\n",
      "3\n",
      "2\n",
      "1\n"
     ]
    }
   ],
   "source": [
    "# Without else\n",
    "num = 5\n",
    "\n",
    "while num > 0:\n",
    "    print num\n",
    "    num -= 1"
   ]
  },
  {
   "cell_type": "code",
   "execution_count": 3,
   "metadata": {},
   "outputs": [
    {
     "name": "stdout",
     "output_type": "stream",
     "text": [
      "0\n",
      "1\n",
      "2\n",
      "3\n",
      "4\n",
      "Successful while loop !!\n"
     ]
    }
   ],
   "source": [
    "# With else\n",
    "num = 0\n",
    "while num < 5:\n",
    "    print num\n",
    "    num += 1\n",
    "else:\n",
    "    print 'Successful while loop !!'"
   ]
  },
  {
   "cell_type": "markdown",
   "metadata": {},
   "source": [
    " **break, continue, pass**\n",
    " \n",
    "     break: Breaks out of the current closest enclosing loop.\n",
    "     continue: Goes to the top of the closest enclosing loop.\n",
    "     pass: Does nothing at all.\n",
    "    \n",
    "General format\n",
    "\n",
    "     while test: \n",
    "         code statement\n",
    "         if test: \n",
    "             break\n",
    "         if test: \n",
    "             continue \n",
    "     else:"
   ]
  },
  {
   "cell_type": "code",
   "execution_count": 8,
   "metadata": {},
   "outputs": [
    {
     "name": "stdout",
     "output_type": "stream",
     "text": [
      "1\n",
      "2\n",
      "4\n",
      "5\n",
      "7\n",
      "8\n"
     ]
    }
   ],
   "source": [
    "a = 0\n",
    "while a <= 15:\n",
    "    a += 1\n",
    "    if a == 10:\n",
    "        break\n",
    "    elif a%3 == 0:\n",
    "        continue\n",
    "    print a"
   ]
  },
  {
   "cell_type": "code",
   "execution_count": 9,
   "metadata": {
    "collapsed": true
   },
   "outputs": [],
   "source": [
    "# Infinite Loop - NEVER RUN THIS !!!\n",
    "# while True:\n",
    "#    print \"Infinte Loop\""
   ]
  }
 ],
 "metadata": {
  "kernelspec": {
   "display_name": "Python 2",
   "language": "python",
   "name": "python2"
  },
  "language_info": {
   "codemirror_mode": {
    "name": "ipython",
    "version": 2
   },
   "file_extension": ".py",
   "mimetype": "text/x-python",
   "name": "python",
   "nbconvert_exporter": "python",
   "pygments_lexer": "ipython2",
   "version": "2.7.13"
  }
 },
 "nbformat": 4,
 "nbformat_minor": 2
}
