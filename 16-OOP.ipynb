{
 "cells": [
  {
   "cell_type": "markdown",
   "metadata": {
    "collapsed": true
   },
   "source": [
    "**Object Oriented Programming**\n",
    "\n",
    "Topics to be covered in this section:\n",
    "\n",
    "* Objects\n",
    "* Using the *class* keyword\n",
    "* Create class attributes\n",
    "* Create methods in a class\n",
    "* Learn about Inheritance\n",
    "* Learn about Special Methods for classes"
   ]
  },
  {
   "cell_type": "code",
   "execution_count": 1,
   "metadata": {
    "collapsed": true
   },
   "outputs": [],
   "source": [
    "myList = [1,2,3]"
   ]
  },
  {
   "cell_type": "code",
   "execution_count": 2,
   "metadata": {},
   "outputs": [
    {
     "data": {
      "text/plain": [
       "1"
      ]
     },
     "execution_count": 2,
     "metadata": {},
     "output_type": "execute_result"
    }
   ],
   "source": [
    "myList.count(3) # call a method in a list"
   ]
  },
  {
   "cell_type": "markdown",
   "metadata": {},
   "source": [
    "**Objects**\n",
    "In Python, *everything is an object*. Check by using type()"
   ]
  },
  {
   "cell_type": "code",
   "execution_count": 3,
   "metadata": {},
   "outputs": [
    {
     "name": "stdout",
     "output_type": "stream",
     "text": [
      "<type 'int'>\n",
      "<type 'list'>\n",
      "<type 'tuple'>\n",
      "<type 'dict'>\n"
     ]
    }
   ],
   "source": [
    "print type(1)\n",
    "print type([])\n",
    "print type(())\n",
    "print type({})"
   ]
  },
  {
   "cell_type": "code",
   "execution_count": 4,
   "metadata": {},
   "outputs": [
    {
     "name": "stdout",
     "output_type": "stream",
     "text": [
      "<class '__main__.Sample'>\n"
     ]
    }
   ],
   "source": [
    "# Create a new class type called Sample\n",
    "class Sample(object):\n",
    "    pass\n",
    "\n",
    "x = Sample() # Instance of the class Sample --> Object\n",
    "\n",
    "print type(x)"
   ]
  },
  {
   "cell_type": "markdown",
   "metadata": {},
   "source": [
    "1. By convention we give the classes a name that starts with a capital letter. \n",
    "2. Similar to other programming languages, an **attribute** is a characteristic of an object.\n",
    "3. And a **method** is an operation we can perform with the object.\n",
    "4. Syntax for creating an attribute is:    \n",
    "   self.attribute = something\n",
    "5. __init__() is a special constructor method used to initialize the attributes of an object."
   ]
  },
  {
   "cell_type": "code",
   "execution_count": 5,
   "metadata": {
    "collapsed": true
   },
   "outputs": [],
   "source": [
    "class Vehicle(object):\n",
    "    def __init__(self,type):\n",
    "        self.type = type\n",
    "        \n",
    "civic = Vehicle(type='Sedan')\n",
    "hondaCRV = Vehicle(type='SUV')"
   ]
  },
  {
   "cell_type": "markdown",
   "metadata": {},
   "source": [
    "1. As soon as an object is created, the constructor method __init__() is called.\n",
    "2. 'type' is the argument that we pass to the constructor method which will initialize the attribute 'type'."
   ]
  },
  {
   "cell_type": "code",
   "execution_count": 6,
   "metadata": {},
   "outputs": [
    {
     "data": {
      "text/plain": [
       "'Sedan'"
      ]
     },
     "execution_count": 6,
     "metadata": {},
     "output_type": "execute_result"
    }
   ],
   "source": [
    "civic.type"
   ]
  },
  {
   "cell_type": "code",
   "execution_count": 7,
   "metadata": {},
   "outputs": [
    {
     "data": {
      "text/plain": [
       "'SUV'"
      ]
     },
     "execution_count": 7,
     "metadata": {},
     "output_type": "execute_result"
    }
   ],
   "source": [
    "hondaCRV.type"
   ]
  },
  {
   "cell_type": "markdown",
   "metadata": {},
   "source": [
    "**class object attributes** are same for all the object instances."
   ]
  },
  {
   "cell_type": "code",
   "execution_count": 8,
   "metadata": {
    "collapsed": true
   },
   "outputs": [],
   "source": [
    "class Dog(object):\n",
    "    \n",
    "    # Class Object Attribute\n",
    "    species = 'mammal'\n",
    "    \n",
    "    def __init__(self,breed,name):\n",
    "        self.breed = breed\n",
    "        self.name = name"
   ]
  },
  {
   "cell_type": "code",
   "execution_count": 9,
   "metadata": {
    "collapsed": true
   },
   "outputs": [],
   "source": [
    "sam = Dog('Lab','Sam')"
   ]
  },
  {
   "cell_type": "code",
   "execution_count": 10,
   "metadata": {},
   "outputs": [
    {
     "name": "stdout",
     "output_type": "stream",
     "text": [
      "Sam\n",
      "mammal\n"
     ]
    }
   ],
   "source": [
    "print(sam.name)\n",
    "print(sam.species)"
   ]
  },
  {
   "cell_type": "markdown",
   "metadata": {},
   "source": [
    "**Time for Methods** - Methods are functions which are defined in an object"
   ]
  },
  {
   "cell_type": "code",
   "execution_count": 11,
   "metadata": {},
   "outputs": [
    {
     "name": "stdout",
     "output_type": "stream",
     "text": [
      "Radius is:  2\n",
      "Area is:  12.56\n"
     ]
    }
   ],
   "source": [
    "class Circle(object):\n",
    "    pi = 3.14\n",
    "\n",
    "    # Circle get instantiated with a radius (default is 1)\n",
    "    def __init__(self, radius = 1):\n",
    "        self.radius = radius \n",
    "\n",
    "    # Area method calculates the area. Note the use of self.\n",
    "    def area(self):\n",
    "        return self.radius * self.radius * Circle.pi\n",
    "\n",
    "    # Method for resetting Radius\n",
    "    def setRadius(self, radius):\n",
    "        '''\n",
    "        This method takes in a radius and resets the current radius\n",
    "        '''\n",
    "        self.radius = radius\n",
    "\n",
    "    # Method for getting radius (Same as just calling .radius)\n",
    "    def getRadius(self):\n",
    "        return self.radius\n",
    "\n",
    "\n",
    "c = Circle()\n",
    "\n",
    "c.setRadius(2)\n",
    "print 'Radius is: ',c.getRadius()\n",
    "print 'Area is: ',c.area()"
   ]
  },
  {
   "cell_type": "markdown",
   "metadata": {},
   "source": [
    "**Inheritance**\n",
    "1. Inheritance is a way to form new classes using classes that have already been defined. \n",
    "2. The newly formed classes are called derived classes, the classes that we derive from are called base classes. \n",
    "3. Important benefits of inheritance are code reusability and reducing the complexity of a program. The derived classes (descendants) override or extend the functionality of base classes (ancestors)."
   ]
  },
  {
   "cell_type": "code",
   "execution_count": 12,
   "metadata": {},
   "outputs": [
    {
     "data": {
      "text/plain": [
       "<bound method Circle.setRadius of <__main__.Circle object at 0x00000000061450B8>>"
      ]
     },
     "execution_count": 12,
     "metadata": {},
     "output_type": "execute_result"
    }
   ],
   "source": [
    "c.setRadius # Shift + tab to check the docstring"
   ]
  },
  {
   "cell_type": "code",
   "execution_count": 13,
   "metadata": {
    "collapsed": true
   },
   "outputs": [],
   "source": [
    "class Animal(object):\n",
    "    def __init__(self):\n",
    "        print \"Animal created\"\n",
    "\n",
    "    def whoAmI(self):\n",
    "        print \"Animal\"\n",
    "\n",
    "    def eat(self):\n",
    "        print \"Eating\"\n",
    "\n",
    "\n",
    "class Dog(Animal):\n",
    "    def __init__(self):\n",
    "        Animal.__init__(self)\n",
    "        print \"Dog created\"\n",
    "\n",
    "    def whoAmI(self):\n",
    "        print \"Dog\"\n",
    "\n",
    "    def bark(self):\n",
    "        print \"Woof!\""
   ]
  },
  {
   "cell_type": "code",
   "execution_count": 14,
   "metadata": {},
   "outputs": [
    {
     "name": "stdout",
     "output_type": "stream",
     "text": [
      "Animal created\n",
      "Dog created\n"
     ]
    }
   ],
   "source": [
    "d = Dog()"
   ]
  },
  {
   "cell_type": "code",
   "execution_count": 15,
   "metadata": {},
   "outputs": [
    {
     "name": "stdout",
     "output_type": "stream",
     "text": [
      "Dog\n"
     ]
    }
   ],
   "source": [
    "d.whoAmI()"
   ]
  },
  {
   "cell_type": "code",
   "execution_count": 16,
   "metadata": {},
   "outputs": [
    {
     "name": "stdout",
     "output_type": "stream",
     "text": [
      "Eating\n"
     ]
    }
   ],
   "source": [
    "d.eat()"
   ]
  },
  {
   "cell_type": "code",
   "execution_count": 17,
   "metadata": {},
   "outputs": [
    {
     "name": "stdout",
     "output_type": "stream",
     "text": [
      "Woof!\n"
     ]
    }
   ],
   "source": [
    "d.bark()"
   ]
  },
  {
   "cell_type": "markdown",
   "metadata": {},
   "source": [
    "In the above example, we have two classes: Animal and Dog. The Animal is the base class, the Dog is the derived class. \n",
    "\n",
    "The derived class inherits the functionality of the base class.\n",
    "\n",
    "* It is shown by the eat() method. \n",
    "\n",
    "The derived class modifies existing behavior of the base class.\n",
    "\n",
    "* shown by the whoAmI() method. \n",
    "\n",
    "Finally, the derived class extends the functionality of the base class, by defining a new bark() method."
   ]
  },
  {
   "cell_type": "markdown",
   "metadata": {},
   "source": [
    "**Special Methods**\n",
    "\n",
    "Classes in Python can implement certain operations with special method names. These methods are not actually called directly but by Python specific language syntax."
   ]
  },
  {
   "cell_type": "code",
   "execution_count": 18,
   "metadata": {
    "collapsed": true
   },
   "outputs": [],
   "source": [
    "class Book(object):\n",
    "    def __init__(self, title, author, pages):\n",
    "        print \"A book is created\"\n",
    "        self.title = title\n",
    "        self.author = author\n",
    "        self.pages = pages\n",
    "\n",
    "    def __str__(self):\n",
    "        return \"Title:%s , author:%s, pages:%s \" %(self.title, self.author, self.pages)\n",
    "\n",
    "    def __len__(self):\n",
    "        return self.pages\n",
    "\n",
    "    def __del__(self):\n",
    "        print \"A book is destroyed\""
   ]
  },
  {
   "cell_type": "code",
   "execution_count": 19,
   "metadata": {},
   "outputs": [
    {
     "name": "stdout",
     "output_type": "stream",
     "text": [
      "A book is created\n",
      "Title:Python Rocks! , author:Jose Portilla, pages:159 \n",
      "159\n",
      "A book is destroyed\n"
     ]
    }
   ],
   "source": [
    "book = Book(\"Python Rocks!\", \"Jose Portilla\", 159)\n",
    "\n",
    "#Special Methods\n",
    "print book\n",
    "print len(book)\n",
    "del book"
   ]
  },
  {
   "cell_type": "markdown",
   "metadata": {},
   "source": [
    "__init__(), __str__(), __len__() and the __del__() methods.\n",
    "These special methods are defined by their use of underscores. They allow us to use Python specific functions on objects created through our class."
   ]
  },
  {
   "cell_type": "markdown",
   "metadata": {},
   "source": [
    "Check out the below links:\n",
    "\n",
    "[Jeff Knupp's Post](https://www.jeffknupp.com/blog/2014/06/18/improve-your-python-python-classes-and-object-oriented-programming/)\n",
    "\n",
    "[Mozilla's Post](https://developer.mozilla.org/en-US/Learn/Python/Quickly_Learn_Object_Oriented_Programming)\n",
    "\n",
    "[Tutorial's Point](http://www.tutorialspoint.com/python/python_classes_objects.htm)\n",
    "\n",
    "[Official Documentation](https://docs.python.org/2/tutorial/classes.html)"
   ]
  }
 ],
 "metadata": {
  "kernelspec": {
   "display_name": "Python 2",
   "language": "python",
   "name": "python2"
  },
  "language_info": {
   "codemirror_mode": {
    "name": "ipython",
    "version": 2
   },
   "file_extension": ".py",
   "mimetype": "text/x-python",
   "name": "python",
   "nbconvert_exporter": "python",
   "pygments_lexer": "ipython2",
   "version": "2.7.13"
  }
 },
 "nbformat": 4,
 "nbformat_minor": 1
}
